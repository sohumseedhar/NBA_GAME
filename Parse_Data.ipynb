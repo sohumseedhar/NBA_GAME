{
 "cells": [
  {
   "cell_type": "code",
   "execution_count": 4,
   "id": "df7d6828-1716-408b-bb52-63066b062e06",
   "metadata": {
    "tags": []
   },
   "outputs": [],
   "source": [
    "import os\n",
    "import pandas as pd\n",
    "from bs4 import BeautifulSoup"
   ]
  },
  {
   "cell_type": "code",
   "execution_count": 6,
   "id": "17da5f6b-877c-4ecf-afcd-550167ea58fc",
   "metadata": {
    "tags": []
   },
   "outputs": [],
   "source": [
    "SCORE_DIR = \"data/scores\""
   ]
  },
  {
   "cell_type": "code",
   "execution_count": 7,
   "id": "f33fd3dd-5e0a-42e7-8a11-4cc8275c0569",
   "metadata": {
    "tags": []
   },
   "outputs": [],
   "source": [
    "box_scores = os.listdir(SCORE_DIR)"
   ]
  },
  {
   "cell_type": "code",
   "execution_count": 8,
   "id": "c03c640e-fd7a-4fd8-8cda-cc343364f45d",
   "metadata": {
    "tags": []
   },
   "outputs": [
    {
     "data": {
      "text/plain": [
       "['202110200POR.html',\n",
       " '202110220PHI.html',\n",
       " '202110220ORL.html',\n",
       " '202110200CHO.html',\n",
       " '202110200MIN.html',\n",
       " '202110200MEM.html',\n",
       " '202110200TOR.html',\n",
       " '202110200SAS.html',\n",
       " '202110210GSW.html',\n",
       " '202110210MIA.html',\n",
       " '202110200DET.html',\n",
       " '202110210ATL.html',\n",
       " '202110190LAL.html',\n",
       " '202110200NOP.html',\n",
       " '202110200UTA.html',\n",
       " '202110220WAS.html',\n",
       " '202110190MIL.html',\n",
       " '202110220HOU.html',\n",
       " '202110220CHI.html',\n",
       " '202110220BOS.html',\n",
       " '202110200NYK.html',\n",
       " '202110200PHO.html',\n",
       " '202110220CLE.html']"
      ]
     },
     "execution_count": 8,
     "metadata": {},
     "output_type": "execute_result"
    }
   ],
   "source": [
    "box_scores"
   ]
  },
  {
   "cell_type": "code",
   "execution_count": null,
   "id": "ffb2fb51-f52b-4a3e-a905-2dc4f6d12222",
   "metadata": {},
   "outputs": [],
   "source": []
  }
 ],
 "metadata": {
  "kernelspec": {
   "display_name": "Python 3 (ipykernel)",
   "language": "python",
   "name": "python3"
  },
  "language_info": {
   "codemirror_mode": {
    "name": "ipython",
    "version": 3
   },
   "file_extension": ".py",
   "mimetype": "text/x-python",
   "name": "python",
   "nbconvert_exporter": "python",
   "pygments_lexer": "ipython3",
   "version": "3.11.4"
  }
 },
 "nbformat": 4,
 "nbformat_minor": 5
}
